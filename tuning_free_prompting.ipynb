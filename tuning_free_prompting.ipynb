{
  "nbformat": 4,
  "nbformat_minor": 0,
  "metadata": {
    "colab": {
      "provenance": [],
      "gpuType": "T4"
    },
    "kernelspec": {
      "name": "python3",
      "display_name": "Python 3"
    },
    "language_info": {
      "name": "python"
    },
    "accelerator": "GPU",
    "gpuClass": "standard",
    "widgets": {
      "application/vnd.jupyter.widget-state+json": {
        "50fcd2237b7f4f4faa5ee5045ce2c5c0": {
          "model_module": "@jupyter-widgets/controls",
          "model_name": "HBoxModel",
          "model_module_version": "1.5.0",
          "state": {
            "_dom_classes": [],
            "_model_module": "@jupyter-widgets/controls",
            "_model_module_version": "1.5.0",
            "_model_name": "HBoxModel",
            "_view_count": null,
            "_view_module": "@jupyter-widgets/controls",
            "_view_module_version": "1.5.0",
            "_view_name": "HBoxView",
            "box_style": "",
            "children": [
              "IPY_MODEL_4a9930383b004c8e83392baf33df5c33",
              "IPY_MODEL_0ef0c2b6856e44aa995549829988d409",
              "IPY_MODEL_10908640901848f283630a9dc71bab11"
            ],
            "layout": "IPY_MODEL_f10c451879544969b5921b184c93bf94"
          }
        },
        "4a9930383b004c8e83392baf33df5c33": {
          "model_module": "@jupyter-widgets/controls",
          "model_name": "HTMLModel",
          "model_module_version": "1.5.0",
          "state": {
            "_dom_classes": [],
            "_model_module": "@jupyter-widgets/controls",
            "_model_module_version": "1.5.0",
            "_model_name": "HTMLModel",
            "_view_count": null,
            "_view_module": "@jupyter-widgets/controls",
            "_view_module_version": "1.5.0",
            "_view_name": "HTMLView",
            "description": "",
            "description_tooltip": null,
            "layout": "IPY_MODEL_ed9df48c677a44c9b80119d1a75e9d65",
            "placeholder": "​",
            "style": "IPY_MODEL_0bc8032345334146badd76cad29f5c3c",
            "value": "100%"
          }
        },
        "0ef0c2b6856e44aa995549829988d409": {
          "model_module": "@jupyter-widgets/controls",
          "model_name": "FloatProgressModel",
          "model_module_version": "1.5.0",
          "state": {
            "_dom_classes": [],
            "_model_module": "@jupyter-widgets/controls",
            "_model_module_version": "1.5.0",
            "_model_name": "FloatProgressModel",
            "_view_count": null,
            "_view_module": "@jupyter-widgets/controls",
            "_view_module_version": "1.5.0",
            "_view_name": "ProgressView",
            "bar_style": "success",
            "description": "",
            "description_tooltip": null,
            "layout": "IPY_MODEL_03734c00624b48d6bdca5fcbe4ca80df",
            "max": 3,
            "min": 0,
            "orientation": "horizontal",
            "style": "IPY_MODEL_33c80a5aa9a44e1c905329e88731f04f",
            "value": 3
          }
        },
        "10908640901848f283630a9dc71bab11": {
          "model_module": "@jupyter-widgets/controls",
          "model_name": "HTMLModel",
          "model_module_version": "1.5.0",
          "state": {
            "_dom_classes": [],
            "_model_module": "@jupyter-widgets/controls",
            "_model_module_version": "1.5.0",
            "_model_name": "HTMLModel",
            "_view_count": null,
            "_view_module": "@jupyter-widgets/controls",
            "_view_module_version": "1.5.0",
            "_view_name": "HTMLView",
            "description": "",
            "description_tooltip": null,
            "layout": "IPY_MODEL_39968426c5d649e4b71d40b94ee804b0",
            "placeholder": "​",
            "style": "IPY_MODEL_f13adba67a864249a20a1b442814dd1d",
            "value": " 3/3 [00:00&lt;00:00, 37.17it/s]"
          }
        },
        "f10c451879544969b5921b184c93bf94": {
          "model_module": "@jupyter-widgets/base",
          "model_name": "LayoutModel",
          "model_module_version": "1.2.0",
          "state": {
            "_model_module": "@jupyter-widgets/base",
            "_model_module_version": "1.2.0",
            "_model_name": "LayoutModel",
            "_view_count": null,
            "_view_module": "@jupyter-widgets/base",
            "_view_module_version": "1.2.0",
            "_view_name": "LayoutView",
            "align_content": null,
            "align_items": null,
            "align_self": null,
            "border": null,
            "bottom": null,
            "display": null,
            "flex": null,
            "flex_flow": null,
            "grid_area": null,
            "grid_auto_columns": null,
            "grid_auto_flow": null,
            "grid_auto_rows": null,
            "grid_column": null,
            "grid_gap": null,
            "grid_row": null,
            "grid_template_areas": null,
            "grid_template_columns": null,
            "grid_template_rows": null,
            "height": null,
            "justify_content": null,
            "justify_items": null,
            "left": null,
            "margin": null,
            "max_height": null,
            "max_width": null,
            "min_height": null,
            "min_width": null,
            "object_fit": null,
            "object_position": null,
            "order": null,
            "overflow": null,
            "overflow_x": null,
            "overflow_y": null,
            "padding": null,
            "right": null,
            "top": null,
            "visibility": null,
            "width": null
          }
        },
        "ed9df48c677a44c9b80119d1a75e9d65": {
          "model_module": "@jupyter-widgets/base",
          "model_name": "LayoutModel",
          "model_module_version": "1.2.0",
          "state": {
            "_model_module": "@jupyter-widgets/base",
            "_model_module_version": "1.2.0",
            "_model_name": "LayoutModel",
            "_view_count": null,
            "_view_module": "@jupyter-widgets/base",
            "_view_module_version": "1.2.0",
            "_view_name": "LayoutView",
            "align_content": null,
            "align_items": null,
            "align_self": null,
            "border": null,
            "bottom": null,
            "display": null,
            "flex": null,
            "flex_flow": null,
            "grid_area": null,
            "grid_auto_columns": null,
            "grid_auto_flow": null,
            "grid_auto_rows": null,
            "grid_column": null,
            "grid_gap": null,
            "grid_row": null,
            "grid_template_areas": null,
            "grid_template_columns": null,
            "grid_template_rows": null,
            "height": null,
            "justify_content": null,
            "justify_items": null,
            "left": null,
            "margin": null,
            "max_height": null,
            "max_width": null,
            "min_height": null,
            "min_width": null,
            "object_fit": null,
            "object_position": null,
            "order": null,
            "overflow": null,
            "overflow_x": null,
            "overflow_y": null,
            "padding": null,
            "right": null,
            "top": null,
            "visibility": null,
            "width": null
          }
        },
        "0bc8032345334146badd76cad29f5c3c": {
          "model_module": "@jupyter-widgets/controls",
          "model_name": "DescriptionStyleModel",
          "model_module_version": "1.5.0",
          "state": {
            "_model_module": "@jupyter-widgets/controls",
            "_model_module_version": "1.5.0",
            "_model_name": "DescriptionStyleModel",
            "_view_count": null,
            "_view_module": "@jupyter-widgets/base",
            "_view_module_version": "1.2.0",
            "_view_name": "StyleView",
            "description_width": ""
          }
        },
        "03734c00624b48d6bdca5fcbe4ca80df": {
          "model_module": "@jupyter-widgets/base",
          "model_name": "LayoutModel",
          "model_module_version": "1.2.0",
          "state": {
            "_model_module": "@jupyter-widgets/base",
            "_model_module_version": "1.2.0",
            "_model_name": "LayoutModel",
            "_view_count": null,
            "_view_module": "@jupyter-widgets/base",
            "_view_module_version": "1.2.0",
            "_view_name": "LayoutView",
            "align_content": null,
            "align_items": null,
            "align_self": null,
            "border": null,
            "bottom": null,
            "display": null,
            "flex": null,
            "flex_flow": null,
            "grid_area": null,
            "grid_auto_columns": null,
            "grid_auto_flow": null,
            "grid_auto_rows": null,
            "grid_column": null,
            "grid_gap": null,
            "grid_row": null,
            "grid_template_areas": null,
            "grid_template_columns": null,
            "grid_template_rows": null,
            "height": null,
            "justify_content": null,
            "justify_items": null,
            "left": null,
            "margin": null,
            "max_height": null,
            "max_width": null,
            "min_height": null,
            "min_width": null,
            "object_fit": null,
            "object_position": null,
            "order": null,
            "overflow": null,
            "overflow_x": null,
            "overflow_y": null,
            "padding": null,
            "right": null,
            "top": null,
            "visibility": null,
            "width": null
          }
        },
        "33c80a5aa9a44e1c905329e88731f04f": {
          "model_module": "@jupyter-widgets/controls",
          "model_name": "ProgressStyleModel",
          "model_module_version": "1.5.0",
          "state": {
            "_model_module": "@jupyter-widgets/controls",
            "_model_module_version": "1.5.0",
            "_model_name": "ProgressStyleModel",
            "_view_count": null,
            "_view_module": "@jupyter-widgets/base",
            "_view_module_version": "1.2.0",
            "_view_name": "StyleView",
            "bar_color": null,
            "description_width": ""
          }
        },
        "39968426c5d649e4b71d40b94ee804b0": {
          "model_module": "@jupyter-widgets/base",
          "model_name": "LayoutModel",
          "model_module_version": "1.2.0",
          "state": {
            "_model_module": "@jupyter-widgets/base",
            "_model_module_version": "1.2.0",
            "_model_name": "LayoutModel",
            "_view_count": null,
            "_view_module": "@jupyter-widgets/base",
            "_view_module_version": "1.2.0",
            "_view_name": "LayoutView",
            "align_content": null,
            "align_items": null,
            "align_self": null,
            "border": null,
            "bottom": null,
            "display": null,
            "flex": null,
            "flex_flow": null,
            "grid_area": null,
            "grid_auto_columns": null,
            "grid_auto_flow": null,
            "grid_auto_rows": null,
            "grid_column": null,
            "grid_gap": null,
            "grid_row": null,
            "grid_template_areas": null,
            "grid_template_columns": null,
            "grid_template_rows": null,
            "height": null,
            "justify_content": null,
            "justify_items": null,
            "left": null,
            "margin": null,
            "max_height": null,
            "max_width": null,
            "min_height": null,
            "min_width": null,
            "object_fit": null,
            "object_position": null,
            "order": null,
            "overflow": null,
            "overflow_x": null,
            "overflow_y": null,
            "padding": null,
            "right": null,
            "top": null,
            "visibility": null,
            "width": null
          }
        },
        "f13adba67a864249a20a1b442814dd1d": {
          "model_module": "@jupyter-widgets/controls",
          "model_name": "DescriptionStyleModel",
          "model_module_version": "1.5.0",
          "state": {
            "_model_module": "@jupyter-widgets/controls",
            "_model_module_version": "1.5.0",
            "_model_name": "DescriptionStyleModel",
            "_view_count": null,
            "_view_module": "@jupyter-widgets/base",
            "_view_module_version": "1.2.0",
            "_view_name": "StyleView",
            "description_width": ""
          }
        }
      }
    }
  },
  "cells": [
    {
      "cell_type": "code",
      "execution_count": 1,
      "metadata": {
        "colab": {
          "base_uri": "https://localhost:8080/"
        },
        "id": "ZQd46n540xv3",
        "outputId": "25fac2a7-986f-485e-e326-65e9c81746a7"
      },
      "outputs": [
        {
          "output_type": "stream",
          "name": "stdout",
          "text": [
            "Looking in indexes: https://pypi.org/simple, https://us-python.pkg.dev/colab-wheels/public/simple/\n",
            "Requirement already satisfied: transformers in /usr/local/lib/python3.10/dist-packages (4.28.1)\n",
            "Requirement already satisfied: requests in /usr/local/lib/python3.10/dist-packages (from transformers) (2.27.1)\n",
            "Requirement already satisfied: regex!=2019.12.17 in /usr/local/lib/python3.10/dist-packages (from transformers) (2022.10.31)\n",
            "Requirement already satisfied: pyyaml>=5.1 in /usr/local/lib/python3.10/dist-packages (from transformers) (6.0)\n",
            "Requirement already satisfied: filelock in /usr/local/lib/python3.10/dist-packages (from transformers) (3.12.0)\n",
            "Requirement already satisfied: numpy>=1.17 in /usr/local/lib/python3.10/dist-packages (from transformers) (1.22.4)\n",
            "Requirement already satisfied: tokenizers!=0.11.3,<0.14,>=0.11.1 in /usr/local/lib/python3.10/dist-packages (from transformers) (0.13.3)\n",
            "Requirement already satisfied: huggingface-hub<1.0,>=0.11.0 in /usr/local/lib/python3.10/dist-packages (from transformers) (0.14.1)\n",
            "Requirement already satisfied: packaging>=20.0 in /usr/local/lib/python3.10/dist-packages (from transformers) (23.1)\n",
            "Requirement already satisfied: tqdm>=4.27 in /usr/local/lib/python3.10/dist-packages (from transformers) (4.65.0)\n",
            "Requirement already satisfied: typing-extensions>=3.7.4.3 in /usr/local/lib/python3.10/dist-packages (from huggingface-hub<1.0,>=0.11.0->transformers) (4.5.0)\n",
            "Requirement already satisfied: fsspec in /usr/local/lib/python3.10/dist-packages (from huggingface-hub<1.0,>=0.11.0->transformers) (2023.4.0)\n",
            "Requirement already satisfied: urllib3<1.27,>=1.21.1 in /usr/local/lib/python3.10/dist-packages (from requests->transformers) (1.26.15)\n",
            "Requirement already satisfied: idna<4,>=2.5 in /usr/local/lib/python3.10/dist-packages (from requests->transformers) (3.4)\n",
            "Requirement already satisfied: certifi>=2017.4.17 in /usr/local/lib/python3.10/dist-packages (from requests->transformers) (2022.12.7)\n",
            "Requirement already satisfied: charset-normalizer~=2.0.0 in /usr/local/lib/python3.10/dist-packages (from requests->transformers) (2.0.12)\n"
          ]
        }
      ],
      "source": [
        "!pip install transformers"
      ]
    },
    {
      "cell_type": "code",
      "source": [
        "!pip install datasets"
      ],
      "metadata": {
        "colab": {
          "base_uri": "https://localhost:8080/"
        },
        "id": "ZUmlJf_w05q5",
        "outputId": "baef8c9a-f156-4367-f131-47bc6f665731"
      },
      "execution_count": 2,
      "outputs": [
        {
          "output_type": "stream",
          "name": "stdout",
          "text": [
            "Looking in indexes: https://pypi.org/simple, https://us-python.pkg.dev/colab-wheels/public/simple/\n",
            "Requirement already satisfied: datasets in /usr/local/lib/python3.10/dist-packages (2.12.0)\n",
            "Requirement already satisfied: aiohttp in /usr/local/lib/python3.10/dist-packages (from datasets) (3.8.4)\n",
            "Requirement already satisfied: numpy>=1.17 in /usr/local/lib/python3.10/dist-packages (from datasets) (1.22.4)\n",
            "Requirement already satisfied: pyyaml>=5.1 in /usr/local/lib/python3.10/dist-packages (from datasets) (6.0)\n",
            "Requirement already satisfied: tqdm>=4.62.1 in /usr/local/lib/python3.10/dist-packages (from datasets) (4.65.0)\n",
            "Requirement already satisfied: pandas in /usr/local/lib/python3.10/dist-packages (from datasets) (1.5.3)\n",
            "Requirement already satisfied: dill<0.3.7,>=0.3.0 in /usr/local/lib/python3.10/dist-packages (from datasets) (0.3.6)\n",
            "Requirement already satisfied: xxhash in /usr/local/lib/python3.10/dist-packages (from datasets) (3.2.0)\n",
            "Requirement already satisfied: huggingface-hub<1.0.0,>=0.11.0 in /usr/local/lib/python3.10/dist-packages (from datasets) (0.14.1)\n",
            "Requirement already satisfied: responses<0.19 in /usr/local/lib/python3.10/dist-packages (from datasets) (0.18.0)\n",
            "Requirement already satisfied: multiprocess in /usr/local/lib/python3.10/dist-packages (from datasets) (0.70.14)\n",
            "Requirement already satisfied: fsspec[http]>=2021.11.1 in /usr/local/lib/python3.10/dist-packages (from datasets) (2023.4.0)\n",
            "Requirement already satisfied: pyarrow>=8.0.0 in /usr/local/lib/python3.10/dist-packages (from datasets) (9.0.0)\n",
            "Requirement already satisfied: requests>=2.19.0 in /usr/local/lib/python3.10/dist-packages (from datasets) (2.27.1)\n",
            "Requirement already satisfied: packaging in /usr/local/lib/python3.10/dist-packages (from datasets) (23.1)\n",
            "Requirement already satisfied: async-timeout<5.0,>=4.0.0a3 in /usr/local/lib/python3.10/dist-packages (from aiohttp->datasets) (4.0.2)\n",
            "Requirement already satisfied: multidict<7.0,>=4.5 in /usr/local/lib/python3.10/dist-packages (from aiohttp->datasets) (6.0.4)\n",
            "Requirement already satisfied: frozenlist>=1.1.1 in /usr/local/lib/python3.10/dist-packages (from aiohttp->datasets) (1.3.3)\n",
            "Requirement already satisfied: aiosignal>=1.1.2 in /usr/local/lib/python3.10/dist-packages (from aiohttp->datasets) (1.3.1)\n",
            "Requirement already satisfied: attrs>=17.3.0 in /usr/local/lib/python3.10/dist-packages (from aiohttp->datasets) (23.1.0)\n",
            "Requirement already satisfied: charset-normalizer<4.0,>=2.0 in /usr/local/lib/python3.10/dist-packages (from aiohttp->datasets) (2.0.12)\n",
            "Requirement already satisfied: yarl<2.0,>=1.0 in /usr/local/lib/python3.10/dist-packages (from aiohttp->datasets) (1.9.2)\n",
            "Requirement already satisfied: filelock in /usr/local/lib/python3.10/dist-packages (from huggingface-hub<1.0.0,>=0.11.0->datasets) (3.12.0)\n",
            "Requirement already satisfied: typing-extensions>=3.7.4.3 in /usr/local/lib/python3.10/dist-packages (from huggingface-hub<1.0.0,>=0.11.0->datasets) (4.5.0)\n",
            "Requirement already satisfied: urllib3<1.27,>=1.21.1 in /usr/local/lib/python3.10/dist-packages (from requests>=2.19.0->datasets) (1.26.15)\n",
            "Requirement already satisfied: certifi>=2017.4.17 in /usr/local/lib/python3.10/dist-packages (from requests>=2.19.0->datasets) (2022.12.7)\n",
            "Requirement already satisfied: idna<4,>=2.5 in /usr/local/lib/python3.10/dist-packages (from requests>=2.19.0->datasets) (3.4)\n",
            "Requirement already satisfied: python-dateutil>=2.8.1 in /usr/local/lib/python3.10/dist-packages (from pandas->datasets) (2.8.2)\n",
            "Requirement already satisfied: pytz>=2020.1 in /usr/local/lib/python3.10/dist-packages (from pandas->datasets) (2022.7.1)\n",
            "Requirement already satisfied: six>=1.5 in /usr/local/lib/python3.10/dist-packages (from python-dateutil>=2.8.1->pandas->datasets) (1.16.0)\n"
          ]
        }
      ]
    },
    {
      "cell_type": "code",
      "source": [
        "!pip install fasttext"
      ],
      "metadata": {
        "colab": {
          "base_uri": "https://localhost:8080/"
        },
        "id": "lRlqdv6H4lnV",
        "outputId": "cde55bd9-d4bb-41af-b4f5-d75cbf5786d5"
      },
      "execution_count": 3,
      "outputs": [
        {
          "output_type": "stream",
          "name": "stdout",
          "text": [
            "Looking in indexes: https://pypi.org/simple, https://us-python.pkg.dev/colab-wheels/public/simple/\n",
            "Requirement already satisfied: fasttext in /usr/local/lib/python3.10/dist-packages (0.9.2)\n",
            "Requirement already satisfied: numpy in /usr/local/lib/python3.10/dist-packages (from fasttext) (1.22.4)\n",
            "Requirement already satisfied: pybind11>=2.2 in /usr/local/lib/python3.10/dist-packages (from fasttext) (2.10.4)\n",
            "Requirement already satisfied: setuptools>=0.7.0 in /usr/local/lib/python3.10/dist-packages (from fasttext) (67.7.2)\n"
          ]
        }
      ]
    },
    {
      "cell_type": "code",
      "source": [
        "! git clone https://github.com/eventdata/ConfliBERT.git "
      ],
      "metadata": {
        "colab": {
          "base_uri": "https://localhost:8080/"
        },
        "id": "y1F84YSE4oiH",
        "outputId": "6cab8eea-e176-482c-c0c4-7f21e2998f44"
      },
      "execution_count": 4,
      "outputs": [
        {
          "output_type": "stream",
          "name": "stdout",
          "text": [
            "fatal: destination path 'ConfliBERT' already exists and is not an empty directory.\n"
          ]
        }
      ]
    },
    {
      "cell_type": "code",
      "source": [
        "import os\n",
        "from string import Template\n",
        "import random\n",
        "import json\n",
        "\n",
        "import torch\n",
        "import torch.nn.functional as F\n",
        "import numpy as np\n",
        "import pandas as pd\n",
        "import fasttext\n",
        "from transformers import AutoTokenizer, AutoModel, RobertaForMaskedLM, BertForMaskedLM, Trainer, GPT2LMHeadModel, TrainingArguments, DataCollatorForLanguageModeling, pipeline\n",
        "from huggingface_hub import hf_hub_download\n",
        "from datasets import Dataset, load_dataset"
      ],
      "metadata": {
        "id": "HQcYgbra3NXy"
      },
      "execution_count": 5,
      "outputs": []
    },
    {
      "cell_type": "code",
      "source": [
        "def set_seed(seed: int = 42) -> None:\n",
        "    np.random.seed(seed)\n",
        "    random.seed(seed)\n",
        "\n",
        "    torch.manual_seed(seed)\n",
        "    torch.cuda.manual_seed(seed)\n",
        "    # When running on the CuDNN backend, two further options must be set\n",
        "    torch.backends.cudnn.deterministic = True\n",
        "    torch.backends.cudnn.benchmark = False\n",
        "    # Set a fixed value for the hash seed\n",
        "    os.environ[\"PYTHONHASHSEED\"] = str(seed)\n",
        "    print(f\"Random seed set as {seed}\")\n",
        "\n",
        "set_seed(5)"
      ],
      "metadata": {
        "colab": {
          "base_uri": "https://localhost:8080/"
        },
        "id": "9ympvfap29JL",
        "outputId": "16ce83b6-1258-4ab5-c04d-bc334fafa632"
      },
      "execution_count": 6,
      "outputs": [
        {
          "output_type": "stream",
          "name": "stdout",
          "text": [
            "Random seed set as 5\n"
          ]
        }
      ]
    },
    {
      "cell_type": "code",
      "source": [
        "# defining available compute device\n",
        "device = torch.device(\"cuda:0\" if torch.cuda.is_available() else \"cpu\")"
      ],
      "metadata": {
        "id": "XSJmbEcM3Dhm"
      },
      "execution_count": 7,
      "outputs": []
    },
    {
      "cell_type": "code",
      "source": [
        " # training and data config\n",
        "file_path = \"/content/ConfliBERT/data/BBC_News/\"\n",
        "template_string = \"$x This news is $y\"\n",
        "# label_words_dict = {0:[\"good\"], 1:[\"bad\"]}\n",
        "labels_file = \"/content/binary_sentiment.json\"\n",
        "\n",
        "# model and tokenizer config\n",
        "# tokenizer_config = \"roberta-base\"\n",
        "# model_config = \"roberta-base\"\n",
        "\n",
        "tokenizer_config = \"bert-base-uncased\"\n",
        "model_config = \"bert-base-uncased\""
      ],
      "metadata": {
        "id": "9mJdwTQX6Mkq"
      },
      "execution_count": 8,
      "outputs": []
    },
    {
      "cell_type": "code",
      "source": [
        "# load train/test data with huggingface Dataset\n",
        "\n",
        "dataset = load_dataset(\"csv\", data_dir=file_path,  column_names=[\"article\", \"label\"], sep=\"\\t\")"
      ],
      "metadata": {
        "colab": {
          "base_uri": "https://localhost:8080/",
          "height": 87,
          "referenced_widgets": [
            "50fcd2237b7f4f4faa5ee5045ce2c5c0",
            "4a9930383b004c8e83392baf33df5c33",
            "0ef0c2b6856e44aa995549829988d409",
            "10908640901848f283630a9dc71bab11",
            "f10c451879544969b5921b184c93bf94",
            "ed9df48c677a44c9b80119d1a75e9d65",
            "0bc8032345334146badd76cad29f5c3c",
            "03734c00624b48d6bdca5fcbe4ca80df",
            "33c80a5aa9a44e1c905329e88731f04f",
            "39968426c5d649e4b71d40b94ee804b0",
            "f13adba67a864249a20a1b442814dd1d"
          ]
        },
        "id": "iasfr92d6OiA",
        "outputId": "88e33581-7c15-4901-f71a-3cd0d8744729"
      },
      "execution_count": 9,
      "outputs": [
        {
          "output_type": "stream",
          "name": "stderr",
          "text": [
            "WARNING:datasets.builder:Found cached dataset csv (/root/.cache/huggingface/datasets/csv/default-5261dc1298f522f1/0.0.0/6954658bab30a358235fa864b05cf819af0e179325c740e4bc853bcc7ec513e1)\n"
          ]
        },
        {
          "output_type": "display_data",
          "data": {
            "text/plain": [
              "  0%|          | 0/3 [00:00<?, ?it/s]"
            ],
            "application/vnd.jupyter.widget-view+json": {
              "version_major": 2,
              "version_minor": 0,
              "model_id": "50fcd2237b7f4f4faa5ee5045ce2c5c0"
            }
          },
          "metadata": {}
        }
      ]
    },
    {
      "cell_type": "code",
      "source": [
        "tokenizer = AutoTokenizer.from_pretrained(\n",
        "    tokenizer_config,\n",
        "    use_fast=False,\n",
        "    truncation_side=\"left\"\n",
        "  )\n",
        "\n",
        "# use for gpt2\n",
        "# tokenizer = AutoTokenizer.from_pretrained(\n",
        "#     tokenizer_config,\n",
        "#     use_fast=False,\n",
        "#     truncation_side=\"left\",\n",
        "#     padding_side=\"left\"\n",
        "#   )"
      ],
      "metadata": {
        "id": "zt1zyqHX6R1o"
      },
      "execution_count": 10,
      "outputs": []
    },
    {
      "cell_type": "code",
      "source": [
        "def transform_article(batch, tokenizer, template, label_words_dict, mlm=True, test=True, model_max_dim=512):\n",
        "  # function to map text to required prompt template\n",
        "  \n",
        "  mask = tokenizer.mask_token if mlm else \"\"\n",
        "  \n",
        "  text = [\n",
        "    template.substitute(\n",
        "        x=article,\n",
        "        y=mask\n",
        "      ) for article in batch[\"article\"]\n",
        "  ]\n",
        "  text_target = [\n",
        "    template.substitute(\n",
        "        x=article,\n",
        "        y=np.random.choice(\n",
        "            label_words_dict[str(batch[\"label\"][i])]\n",
        "        )\n",
        "      ) for i, article in enumerate(batch[\"article\"])\n",
        "  ]\n",
        "\n",
        "  if test == True:\n",
        "    return {\"text\":[article[-512:] for article in text],\n",
        "            \"text_target\":[target[-512:] for target in text_target]}\n",
        "\n",
        "  result = tokenizer(\n",
        "    text=text,\n",
        "    text_target=text_target,\n",
        "    truncation=True,\n",
        "    padding=True,\n",
        "    return_tensors=\"pt\"\n",
        "  )\n",
        "\n",
        "  masks = torch.where(result[\"input_ids\"] == tokenizer.mask_token_id)  \n",
        "  _temp_labels = result[\"labels\"].clone()\n",
        "  _temp_labels[:] = -100\n",
        "  _temp_labels[masks] = result[\"labels\"][masks]\n",
        "  result[\"labels\"] = _temp_labels\n",
        "  \n",
        "  return result"
      ],
      "metadata": {
        "id": "4ayfd-rh6cd6"
      },
      "execution_count": 11,
      "outputs": []
    },
    {
      "cell_type": "code",
      "source": [
        "with open(labels_file) as input_file:\n",
        "  label_words_dict = json.loads(input_file.read())\n",
        "\n",
        "template = Template(template_string)"
      ],
      "metadata": {
        "id": "Adg-W_jY9VYc"
      },
      "execution_count": 12,
      "outputs": []
    },
    {
      "cell_type": "code",
      "source": [
        "# model = RobertaForMaskedLM.from_pretrained(model_config).to(device)\n",
        "model = BertForMaskedLM.from_pretrained(model_config).to(device)\n",
        "# model = GPT2LMHeadModel.from_pretrained(model_config).to(device)"
      ],
      "metadata": {
        "colab": {
          "base_uri": "https://localhost:8080/"
        },
        "id": "21CiJZBCmdEq",
        "outputId": "8a6ec32c-f595-480a-eacb-1a6f8036bb3d"
      },
      "execution_count": 13,
      "outputs": [
        {
          "output_type": "stream",
          "name": "stderr",
          "text": [
            "Some weights of the model checkpoint at bert-base-uncased were not used when initializing BertForMaskedLM: ['cls.seq_relationship.weight', 'cls.seq_relationship.bias']\n",
            "- This IS expected if you are initializing BertForMaskedLM from the checkpoint of a model trained on another task or with another architecture (e.g. initializing a BertForSequenceClassification model from a BertForPreTraining model).\n",
            "- This IS NOT expected if you are initializing BertForMaskedLM from the checkpoint of a model that you expect to be exactly identical (initializing a BertForSequenceClassification model from a BertForSequenceClassification model).\n"
          ]
        }
      ]
    },
    {
      "cell_type": "code",
      "source": [
        "tokenized_test = dataset[\"test\"].map(\n",
        "    transform_article,\n",
        "    num_proc=4,\n",
        "    batched=True,\n",
        "    fn_kwargs={\"template\":template, \"label_words_dict\":label_words_dict, \"tokenizer\":tokenizer, \"test\":True, \"mlm\":True}\n",
        ")"
      ],
      "metadata": {
        "colab": {
          "base_uri": "https://localhost:8080/"
        },
        "id": "PP6Yp5DhnXfl",
        "outputId": "1c390939-af09-4d56-c1db-56661d0209e8"
      },
      "execution_count": 14,
      "outputs": [
        {
          "output_type": "stream",
          "name": "stderr",
          "text": [
            "WARNING:datasets.arrow_dataset:Loading cached processed dataset at /root/.cache/huggingface/datasets/csv/default-5261dc1298f522f1/0.0.0/6954658bab30a358235fa864b05cf819af0e179325c740e4bc853bcc7ec513e1/cache-a87f2783a2952df5_*_of_00004.arrow\n"
          ]
        }
      ]
    },
    {
      "cell_type": "code",
      "source": [
        "mask_filler = pipeline(\"fill-mask\", model, tokenizer=tokenizer, device=device)\n",
        "\n",
        "# text_generator = pipeline(\"text-generation\", model=model, tokenizer=tokenizer, device=device)\n",
        "# text_generator.tokenizer.pad_token_id = model.config.eos_token_id"
      ],
      "metadata": {
        "id": "BxGCLhoBnb3e"
      },
      "execution_count": 15,
      "outputs": []
    },
    {
      "cell_type": "code",
      "source": [
        "torch.cuda.empty_cache()"
      ],
      "metadata": {
        "id": "GTyWq4dU5N1-"
      },
      "execution_count": 16,
      "outputs": []
    },
    {
      "cell_type": "code",
      "source": [
        "mask_fills = mask_filler(tokenized_test[\"text\"][:50], batch_size=100)\n",
        "# generations = text_generator(tokenized_test[\"text\"], num_return_sequences=4, batch_size=20)"
      ],
      "metadata": {
        "id": "I8RbDF3NngdG"
      },
      "execution_count": 17,
      "outputs": []
    },
    {
      "cell_type": "code",
      "source": [
        "mask_fills[10]\n",
        "# generations[10]"
      ],
      "metadata": {
        "colab": {
          "base_uri": "https://localhost:8080/"
        },
        "id": "Lb79SJjFvKat",
        "outputId": "bfc1b789-cbf3-45c0-d671-cc156a97c07e"
      },
      "execution_count": 18,
      "outputs": [
        {
          "output_type": "execute_result",
          "data": {
            "text/plain": [
              "[{'score': 0.6645217537879944,\n",
              "  'token': 1012,\n",
              "  'token_str': '.',\n",
              "  'sequence': 'defence cordon was slowly disintegrating. england prop matt stevens ran in at full steam to suck in a few more tacklers. unfortunately he ran into o connell who hit him hard - very hard - and then wrestled the ball away for a crucial turnover. that spoke volumes about ireland s back - foot display with defensive coach mike ford taking a bow at the end. to win a game like that showed that ireland have moved forward. it may be tries that win games but it is defence that wins championships. this news is.'},\n",
              " {'score': 0.1856451779603958,\n",
              "  'token': 1025,\n",
              "  'token_str': ';',\n",
              "  'sequence': 'defence cordon was slowly disintegrating. england prop matt stevens ran in at full steam to suck in a few more tacklers. unfortunately he ran into o connell who hit him hard - very hard - and then wrestled the ball away for a crucial turnover. that spoke volumes about ireland s back - foot display with defensive coach mike ford taking a bow at the end. to win a game like that showed that ireland have moved forward. it may be tries that win games but it is defence that wins championships. this news is ;'},\n",
              " {'score': 0.09726226329803467,\n",
              "  'token': 999,\n",
              "  'token_str': '!',\n",
              "  'sequence': 'defence cordon was slowly disintegrating. england prop matt stevens ran in at full steam to suck in a few more tacklers. unfortunately he ran into o connell who hit him hard - very hard - and then wrestled the ball away for a crucial turnover. that spoke volumes about ireland s back - foot display with defensive coach mike ford taking a bow at the end. to win a game like that showed that ireland have moved forward. it may be tries that win games but it is defence that wins championships. this news is!'},\n",
              " {'score': 0.04660409688949585,\n",
              "  'token': 1029,\n",
              "  'token_str': '?',\n",
              "  'sequence': 'defence cordon was slowly disintegrating. england prop matt stevens ran in at full steam to suck in a few more tacklers. unfortunately he ran into o connell who hit him hard - very hard - and then wrestled the ball away for a crucial turnover. that spoke volumes about ireland s back - foot display with defensive coach mike ford taking a bow at the end. to win a game like that showed that ireland have moved forward. it may be tries that win games but it is defence that wins championships. this news is?'},\n",
              " {'score': 0.002542943460866809,\n",
              "  'token': 1064,\n",
              "  'token_str': '|',\n",
              "  'sequence': 'defence cordon was slowly disintegrating. england prop matt stevens ran in at full steam to suck in a few more tacklers. unfortunately he ran into o connell who hit him hard - very hard - and then wrestled the ball away for a crucial turnover. that spoke volumes about ireland s back - foot display with defensive coach mike ford taking a bow at the end. to win a game like that showed that ireland have moved forward. it may be tries that win games but it is defence that wins championships. this news is |'}]"
            ]
          },
          "metadata": {},
          "execution_count": 18
        }
      ]
    },
    {
      "cell_type": "code",
      "source": [
        "print(mask_fills[10][0])"
      ],
      "metadata": {
        "colab": {
          "base_uri": "https://localhost:8080/"
        },
        "id": "E_dvHodfwFU_",
        "outputId": "a5cd591b-5ab2-42dc-ef06-bccc2d43bfc5"
      },
      "execution_count": 19,
      "outputs": [
        {
          "output_type": "stream",
          "name": "stdout",
          "text": [
            "{'score': 0.6645217537879944, 'token': 1012, 'token_str': '.', 'sequence': 'defence cordon was slowly disintegrating. england prop matt stevens ran in at full steam to suck in a few more tacklers. unfortunately he ran into o connell who hit him hard - very hard - and then wrestled the ball away for a crucial turnover. that spoke volumes about ireland s back - foot display with defensive coach mike ford taking a bow at the end. to win a game like that showed that ireland have moved forward. it may be tries that win games but it is defence that wins championships. this news is.'}\n"
          ]
        }
      ]
    },
    {
      "cell_type": "code",
      "source": [
        "predicted_tokens = [sample[0][\"token_str\"] for sample in mask_fills]"
      ],
      "metadata": {
        "id": "Zgy0o4Q1nkpp"
      },
      "execution_count": 20,
      "outputs": []
    },
    {
      "cell_type": "code",
      "source": [
        "model_path = hf_hub_download(repo_id=\"facebook/fasttext-en-vectors\", filename=\"model.bin\")\n",
        "ft_model = fasttext.load_model(model_path)"
      ],
      "metadata": {
        "colab": {
          "base_uri": "https://localhost:8080/"
        },
        "id": "1LZReC-co0EK",
        "outputId": "b2d6b7eb-707c-4c57-9f3e-0d6893482a62"
      },
      "execution_count": 21,
      "outputs": [
        {
          "output_type": "stream",
          "name": "stderr",
          "text": [
            "Warning : `load_model` does not return WordVectorModel or SupervisedModel any more, but a `FastText` object which is very similar.\n"
          ]
        }
      ]
    },
    {
      "cell_type": "code",
      "source": [
        "label_vectors = torch.empty(len(label_words_dict), ft_model.get_dimension())\n",
        "for i, label in enumerate(label_words_dict):\n",
        "  label_vectors[i] = torch.mean(torch.tensor(\n",
        "      [\n",
        "        ft_model.get_word_vector(word) for word in label_words_dict[label]\n",
        "      ]\n",
        "    ),\n",
        "    dim=0\n",
        "  )"
      ],
      "metadata": {
        "colab": {
          "base_uri": "https://localhost:8080/"
        },
        "id": "k57pqLFZo19b",
        "outputId": "34fe13de-a43e-4c7f-a2ea-0f1caf8929b4"
      },
      "execution_count": 23,
      "outputs": [
        {
          "output_type": "stream",
          "name": "stderr",
          "text": [
            "<ipython-input-23-bf75f442f05d>:3: UserWarning: Creating a tensor from a list of numpy.ndarrays is extremely slow. Please consider converting the list to a single numpy.ndarray with numpy.array() before converting to a tensor. (Triggered internally at ../torch/csrc/utils/tensor_new.cpp:245.)\n",
            "  label_vectors[i] = torch.mean(torch.tensor(\n"
          ]
        }
      ]
    },
    {
      "cell_type": "code",
      "source": [
        "word_vec = torch.tensor([ ft_model.get_word_vector(word) for word in predicted_tokens])"
      ],
      "metadata": {
        "id": "mDKfOwXYrB9A"
      },
      "execution_count": 25,
      "outputs": []
    },
    {
      "cell_type": "code",
      "source": [
        "def cosine_sim_matrix(a, b, eps=1e-8):\n",
        "    # added eps for numerical stability\n",
        "    a_n, b_n = a.norm(dim=1)[:, None], b.norm(dim=1)[:, None]\n",
        "    a_norm = a / torch.max(a_n, eps * torch.ones_like(a_n))\n",
        "    b_norm = b / torch.max(b_n, eps * torch.ones_like(b_n))\n",
        "    sim_mt = torch.mm(a_norm, b_norm.transpose(0, 1))\n",
        "    return sim_mt"
      ],
      "metadata": {
        "id": "IqANIXo5rF26"
      },
      "execution_count": 26,
      "outputs": []
    },
    {
      "cell_type": "code",
      "source": [
        "similarity = cosine_sim_matrix(word_vec, label_vectors)"
      ],
      "metadata": {
        "id": "2S8jsFo-K542"
      },
      "execution_count": 27,
      "outputs": []
    },
    {
      "cell_type": "code",
      "source": [
        "for i,sim in enumerate(similarity):\n",
        "    print(i, sim)"
      ],
      "metadata": {
        "colab": {
          "base_uri": "https://localhost:8080/"
        },
        "id": "3v3DeUOtM5LE",
        "outputId": "a3415f68-de9f-4866-e112-3a7d78591212"
      },
      "execution_count": 28,
      "outputs": [
        {
          "output_type": "stream",
          "name": "stdout",
          "text": [
            "0 tensor([0.1330, 0.1432])\n",
            "1 tensor([0.1330, 0.1432])\n",
            "2 tensor([0.1330, 0.1432])\n",
            "3 tensor([0.1330, 0.1432])\n",
            "4 tensor([0.1330, 0.1432])\n",
            "5 tensor([0.1330, 0.1432])\n",
            "6 tensor([0.1330, 0.1432])\n",
            "7 tensor([0.1330, 0.1432])\n",
            "8 tensor([0.1330, 0.1432])\n",
            "9 tensor([0.1330, 0.1432])\n",
            "10 tensor([0.1330, 0.1432])\n",
            "11 tensor([0.1330, 0.1432])\n",
            "12 tensor([0.1330, 0.1432])\n",
            "13 tensor([0.1330, 0.1432])\n",
            "14 tensor([0.1330, 0.1432])\n",
            "15 tensor([0.1330, 0.1432])\n",
            "16 tensor([0.1330, 0.1432])\n",
            "17 tensor([0.1330, 0.1432])\n",
            "18 tensor([0.1330, 0.1432])\n",
            "19 tensor([0.1330, 0.1432])\n",
            "20 tensor([0.1330, 0.1432])\n",
            "21 tensor([0.1330, 0.1432])\n",
            "22 tensor([0.1330, 0.1432])\n",
            "23 tensor([0.1330, 0.1432])\n",
            "24 tensor([0.1330, 0.1432])\n",
            "25 tensor([0.1330, 0.1432])\n",
            "26 tensor([0.1330, 0.1432])\n",
            "27 tensor([0.1330, 0.1432])\n",
            "28 tensor([0.0693, 0.1239])\n",
            "29 tensor([0.1330, 0.1432])\n",
            "30 tensor([0.0693, 0.1239])\n",
            "31 tensor([0.1330, 0.1432])\n",
            "32 tensor([0.0536, 0.1051])\n",
            "33 tensor([0.1330, 0.1432])\n",
            "34 tensor([0.1330, 0.1432])\n",
            "35 tensor([0.1330, 0.1432])\n",
            "36 tensor([0.1330, 0.1432])\n",
            "37 tensor([0.1226, 0.1443])\n",
            "38 tensor([0.1330, 0.1432])\n",
            "39 tensor([0.1330, 0.1432])\n",
            "40 tensor([0.1330, 0.1432])\n",
            "41 tensor([0.1330, 0.1432])\n",
            "42 tensor([0.1330, 0.1432])\n",
            "43 tensor([0.1330, 0.1432])\n",
            "44 tensor([0.1330, 0.1432])\n",
            "45 tensor([0.1330, 0.1432])\n",
            "46 tensor([0.1330, 0.1432])\n",
            "47 tensor([0.1330, 0.1432])\n",
            "48 tensor([0.1330, 0.1432])\n",
            "49 tensor([0.1330, 0.1432])\n"
          ]
        }
      ]
    },
    {
      "cell_type": "code",
      "source": [
        "similarity.max(1).values.mean()"
      ],
      "metadata": {
        "colab": {
          "base_uri": "https://localhost:8080/"
        },
        "id": "4ZLL_KqvLBV0",
        "outputId": "b2e2ef57-f2a2-4fe4-d3d0-b7a0fbde5586"
      },
      "execution_count": 29,
      "outputs": [
        {
          "output_type": "execute_result",
          "data": {
            "text/plain": [
              "tensor(0.1417)"
            ]
          },
          "metadata": {},
          "execution_count": 29
        }
      ]
    },
    {
      "cell_type": "code",
      "source": [
        "predictions = similarity.argmax(1)"
      ],
      "metadata": {
        "id": "E2zrCRp8rKtU"
      },
      "execution_count": 30,
      "outputs": []
    },
    {
      "cell_type": "code",
      "source": [
        "# accuracy\n",
        "correct = (predictions == torch.tensor(tokenized_test[\"label\"])[:50]).sum()\n",
        "acc = 100 * correct/len(predictions)"
      ],
      "metadata": {
        "id": "_I5P-iS1rM5z"
      },
      "execution_count": 31,
      "outputs": []
    },
    {
      "cell_type": "code",
      "source": [
        "acc"
      ],
      "metadata": {
        "colab": {
          "base_uri": "https://localhost:8080/"
        },
        "id": "n7ZfL2KTrO2c",
        "outputId": "d70944d3-f38a-446d-c8f8-0f91a75845d0"
      },
      "execution_count": 32,
      "outputs": [
        {
          "output_type": "execute_result",
          "data": {
            "text/plain": [
              "tensor(18.)"
            ]
          },
          "metadata": {},
          "execution_count": 32
        }
      ]
    },
    {
      "cell_type": "code",
      "source": [
        "from sklearn.metrics import f1_score"
      ],
      "metadata": {
        "id": "KQQSuYtVrWQF"
      },
      "execution_count": 33,
      "outputs": []
    },
    {
      "cell_type": "code",
      "source": [
        "f1_score(tokenized_test[\"label\"][:50], predictions)"
      ],
      "metadata": {
        "colab": {
          "base_uri": "https://localhost:8080/"
        },
        "id": "AO_VFGn1rgPi",
        "outputId": "9a20a8db-22ab-4c0e-d0d4-9bc097ca7f34"
      },
      "execution_count": 34,
      "outputs": [
        {
          "output_type": "execute_result",
          "data": {
            "text/plain": [
              "0.3050847457627119"
            ]
          },
          "metadata": {},
          "execution_count": 34
        }
      ]
    },
    {
      "cell_type": "code",
      "source": [
        "tokenized_test[\"label\"][0]"
      ],
      "metadata": {
        "colab": {
          "base_uri": "https://localhost:8080/"
        },
        "id": "klyRHZ0Urn2b",
        "outputId": "c69902ae-c9e8-4192-bc0c-2cce0e29f7b8"
      },
      "execution_count": 35,
      "outputs": [
        {
          "output_type": "execute_result",
          "data": {
            "text/plain": [
              "0"
            ]
          },
          "metadata": {},
          "execution_count": 35
        }
      ]
    },
    {
      "cell_type": "code",
      "source": [],
      "metadata": {
        "id": "yHxqA-Clvhps"
      },
      "execution_count": null,
      "outputs": []
    }
  ]
}